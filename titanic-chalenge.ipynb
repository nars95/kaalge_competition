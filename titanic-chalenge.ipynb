{
 "cells": [
  {
   "cell_type": "code",
   "execution_count": 1,
   "id": "39213123",
   "metadata": {
    "_cell_guid": "b1076dfc-b9ad-4769-8c92-a6c4dae69d19",
    "_uuid": "8f2839f25d086af736a60e9eeb907d3b93b6e0e5",
    "execution": {
     "iopub.execute_input": "2023-03-02T01:10:44.886361Z",
     "iopub.status.busy": "2023-03-02T01:10:44.885169Z",
     "iopub.status.idle": "2023-03-02T01:10:46.202690Z",
     "shell.execute_reply": "2023-03-02T01:10:46.201459Z"
    },
    "papermill": {
     "duration": 1.329928,
     "end_time": "2023-03-02T01:10:46.205292",
     "exception": false,
     "start_time": "2023-03-02T01:10:44.875364",
     "status": "completed"
    },
    "tags": []
   },
   "outputs": [
    {
     "name": "stdout",
     "output_type": "stream",
     "text": [
      "/kaggle/input/titanic/train.csv\n",
      "/kaggle/input/titanic/test.csv\n",
      "/kaggle/input/titanic/gender_submission.csv\n"
     ]
    }
   ],
   "source": [
    "import numpy as np # linear algebra\n",
    "import pandas as pd # data processing, CSV file I/O (e.g. pd.read_csv)\n",
    "from sklearn.impute import SimpleImputer\n",
    "from sklearn.preprocessing import StandardScaler, OneHotEncoder\n",
    "from sklearn.pipeline import Pipeline\n",
    "from sklearn.compose import ColumnTransformer\n",
    "from sklearn.model_selection import GridSearchCV\n",
    "from sklearn.ensemble import RandomForestClassifier\n",
    "from sklearn.metrics import accuracy_score\n",
    "# Input data files are available in the read-only \"../input/\" directory\n",
    "# For example, running this (by clicking run or pressing Shift+Enter) will list all files under the input directory\n",
    "\n",
    "import os\n",
    "for dirname, _, filenames in os.walk('/kaggle/input'):\n",
    "    for filename in filenames:\n",
    "        print(os.path.join(dirname, filename))\n",
    "\n"
   ]
  },
  {
   "cell_type": "markdown",
   "id": "5b9c65b0",
   "metadata": {
    "papermill": {
     "duration": 0.007325,
     "end_time": "2023-03-02T01:10:46.220661",
     "exception": false,
     "start_time": "2023-03-02T01:10:46.213336",
     "status": "completed"
    },
    "tags": []
   },
   "source": [
    "# loading the data that we'll use to our project"
   ]
  },
  {
   "cell_type": "code",
   "execution_count": 2,
   "id": "f13c98f7",
   "metadata": {
    "execution": {
     "iopub.execute_input": "2023-03-02T01:10:46.237576Z",
     "iopub.status.busy": "2023-03-02T01:10:46.237210Z",
     "iopub.status.idle": "2023-03-02T01:10:46.275400Z",
     "shell.execute_reply": "2023-03-02T01:10:46.274357Z"
    },
    "papermill": {
     "duration": 0.049746,
     "end_time": "2023-03-02T01:10:46.277926",
     "exception": false,
     "start_time": "2023-03-02T01:10:46.228180",
     "status": "completed"
    },
    "tags": []
   },
   "outputs": [
    {
     "data": {
      "text/html": [
       "<div>\n",
       "<style scoped>\n",
       "    .dataframe tbody tr th:only-of-type {\n",
       "        vertical-align: middle;\n",
       "    }\n",
       "\n",
       "    .dataframe tbody tr th {\n",
       "        vertical-align: top;\n",
       "    }\n",
       "\n",
       "    .dataframe thead th {\n",
       "        text-align: right;\n",
       "    }\n",
       "</style>\n",
       "<table border=\"1\" class=\"dataframe\">\n",
       "  <thead>\n",
       "    <tr style=\"text-align: right;\">\n",
       "      <th></th>\n",
       "      <th>PassengerId</th>\n",
       "      <th>Survived</th>\n",
       "      <th>Pclass</th>\n",
       "      <th>Name</th>\n",
       "      <th>Sex</th>\n",
       "      <th>Age</th>\n",
       "      <th>SibSp</th>\n",
       "      <th>Parch</th>\n",
       "      <th>Ticket</th>\n",
       "      <th>Fare</th>\n",
       "      <th>Cabin</th>\n",
       "      <th>Embarked</th>\n",
       "    </tr>\n",
       "  </thead>\n",
       "  <tbody>\n",
       "    <tr>\n",
       "      <th>0</th>\n",
       "      <td>1</td>\n",
       "      <td>0</td>\n",
       "      <td>3</td>\n",
       "      <td>Braund, Mr. Owen Harris</td>\n",
       "      <td>male</td>\n",
       "      <td>22.0</td>\n",
       "      <td>1</td>\n",
       "      <td>0</td>\n",
       "      <td>A/5 21171</td>\n",
       "      <td>7.2500</td>\n",
       "      <td>NaN</td>\n",
       "      <td>S</td>\n",
       "    </tr>\n",
       "    <tr>\n",
       "      <th>1</th>\n",
       "      <td>2</td>\n",
       "      <td>1</td>\n",
       "      <td>1</td>\n",
       "      <td>Cumings, Mrs. John Bradley (Florence Briggs Th...</td>\n",
       "      <td>female</td>\n",
       "      <td>38.0</td>\n",
       "      <td>1</td>\n",
       "      <td>0</td>\n",
       "      <td>PC 17599</td>\n",
       "      <td>71.2833</td>\n",
       "      <td>C85</td>\n",
       "      <td>C</td>\n",
       "    </tr>\n",
       "    <tr>\n",
       "      <th>2</th>\n",
       "      <td>3</td>\n",
       "      <td>1</td>\n",
       "      <td>3</td>\n",
       "      <td>Heikkinen, Miss. Laina</td>\n",
       "      <td>female</td>\n",
       "      <td>26.0</td>\n",
       "      <td>0</td>\n",
       "      <td>0</td>\n",
       "      <td>STON/O2. 3101282</td>\n",
       "      <td>7.9250</td>\n",
       "      <td>NaN</td>\n",
       "      <td>S</td>\n",
       "    </tr>\n",
       "    <tr>\n",
       "      <th>3</th>\n",
       "      <td>4</td>\n",
       "      <td>1</td>\n",
       "      <td>1</td>\n",
       "      <td>Futrelle, Mrs. Jacques Heath (Lily May Peel)</td>\n",
       "      <td>female</td>\n",
       "      <td>35.0</td>\n",
       "      <td>1</td>\n",
       "      <td>0</td>\n",
       "      <td>113803</td>\n",
       "      <td>53.1000</td>\n",
       "      <td>C123</td>\n",
       "      <td>S</td>\n",
       "    </tr>\n",
       "    <tr>\n",
       "      <th>4</th>\n",
       "      <td>5</td>\n",
       "      <td>0</td>\n",
       "      <td>3</td>\n",
       "      <td>Allen, Mr. William Henry</td>\n",
       "      <td>male</td>\n",
       "      <td>35.0</td>\n",
       "      <td>0</td>\n",
       "      <td>0</td>\n",
       "      <td>373450</td>\n",
       "      <td>8.0500</td>\n",
       "      <td>NaN</td>\n",
       "      <td>S</td>\n",
       "    </tr>\n",
       "  </tbody>\n",
       "</table>\n",
       "</div>"
      ],
      "text/plain": [
       "   PassengerId  Survived  Pclass  \\\n",
       "0            1         0       3   \n",
       "1            2         1       1   \n",
       "2            3         1       3   \n",
       "3            4         1       1   \n",
       "4            5         0       3   \n",
       "\n",
       "                                                Name     Sex   Age  SibSp  \\\n",
       "0                            Braund, Mr. Owen Harris    male  22.0      1   \n",
       "1  Cumings, Mrs. John Bradley (Florence Briggs Th...  female  38.0      1   \n",
       "2                             Heikkinen, Miss. Laina  female  26.0      0   \n",
       "3       Futrelle, Mrs. Jacques Heath (Lily May Peel)  female  35.0      1   \n",
       "4                           Allen, Mr. William Henry    male  35.0      0   \n",
       "\n",
       "   Parch            Ticket     Fare Cabin Embarked  \n",
       "0      0         A/5 21171   7.2500   NaN        S  \n",
       "1      0          PC 17599  71.2833   C85        C  \n",
       "2      0  STON/O2. 3101282   7.9250   NaN        S  \n",
       "3      0            113803  53.1000  C123        S  \n",
       "4      0            373450   8.0500   NaN        S  "
      ]
     },
     "execution_count": 2,
     "metadata": {},
     "output_type": "execute_result"
    }
   ],
   "source": [
    "train_data = pd.read_csv(\"/kaggle/input/titanic/train.csv\")\n",
    "train_data.head()"
   ]
  },
  {
   "cell_type": "code",
   "execution_count": 3,
   "id": "7c71390a",
   "metadata": {
    "execution": {
     "iopub.execute_input": "2023-03-02T01:10:46.294589Z",
     "iopub.status.busy": "2023-03-02T01:10:46.294273Z",
     "iopub.status.idle": "2023-03-02T01:10:46.315723Z",
     "shell.execute_reply": "2023-03-02T01:10:46.314467Z"
    },
    "papermill": {
     "duration": 0.032454,
     "end_time": "2023-03-02T01:10:46.318333",
     "exception": false,
     "start_time": "2023-03-02T01:10:46.285879",
     "status": "completed"
    },
    "tags": []
   },
   "outputs": [
    {
     "data": {
      "text/html": [
       "<div>\n",
       "<style scoped>\n",
       "    .dataframe tbody tr th:only-of-type {\n",
       "        vertical-align: middle;\n",
       "    }\n",
       "\n",
       "    .dataframe tbody tr th {\n",
       "        vertical-align: top;\n",
       "    }\n",
       "\n",
       "    .dataframe thead th {\n",
       "        text-align: right;\n",
       "    }\n",
       "</style>\n",
       "<table border=\"1\" class=\"dataframe\">\n",
       "  <thead>\n",
       "    <tr style=\"text-align: right;\">\n",
       "      <th></th>\n",
       "      <th>PassengerId</th>\n",
       "      <th>Pclass</th>\n",
       "      <th>Name</th>\n",
       "      <th>Sex</th>\n",
       "      <th>Age</th>\n",
       "      <th>SibSp</th>\n",
       "      <th>Parch</th>\n",
       "      <th>Ticket</th>\n",
       "      <th>Fare</th>\n",
       "      <th>Cabin</th>\n",
       "      <th>Embarked</th>\n",
       "    </tr>\n",
       "  </thead>\n",
       "  <tbody>\n",
       "    <tr>\n",
       "      <th>0</th>\n",
       "      <td>892</td>\n",
       "      <td>3</td>\n",
       "      <td>Kelly, Mr. James</td>\n",
       "      <td>male</td>\n",
       "      <td>34.5</td>\n",
       "      <td>0</td>\n",
       "      <td>0</td>\n",
       "      <td>330911</td>\n",
       "      <td>7.8292</td>\n",
       "      <td>NaN</td>\n",
       "      <td>Q</td>\n",
       "    </tr>\n",
       "    <tr>\n",
       "      <th>1</th>\n",
       "      <td>893</td>\n",
       "      <td>3</td>\n",
       "      <td>Wilkes, Mrs. James (Ellen Needs)</td>\n",
       "      <td>female</td>\n",
       "      <td>47.0</td>\n",
       "      <td>1</td>\n",
       "      <td>0</td>\n",
       "      <td>363272</td>\n",
       "      <td>7.0000</td>\n",
       "      <td>NaN</td>\n",
       "      <td>S</td>\n",
       "    </tr>\n",
       "    <tr>\n",
       "      <th>2</th>\n",
       "      <td>894</td>\n",
       "      <td>2</td>\n",
       "      <td>Myles, Mr. Thomas Francis</td>\n",
       "      <td>male</td>\n",
       "      <td>62.0</td>\n",
       "      <td>0</td>\n",
       "      <td>0</td>\n",
       "      <td>240276</td>\n",
       "      <td>9.6875</td>\n",
       "      <td>NaN</td>\n",
       "      <td>Q</td>\n",
       "    </tr>\n",
       "    <tr>\n",
       "      <th>3</th>\n",
       "      <td>895</td>\n",
       "      <td>3</td>\n",
       "      <td>Wirz, Mr. Albert</td>\n",
       "      <td>male</td>\n",
       "      <td>27.0</td>\n",
       "      <td>0</td>\n",
       "      <td>0</td>\n",
       "      <td>315154</td>\n",
       "      <td>8.6625</td>\n",
       "      <td>NaN</td>\n",
       "      <td>S</td>\n",
       "    </tr>\n",
       "    <tr>\n",
       "      <th>4</th>\n",
       "      <td>896</td>\n",
       "      <td>3</td>\n",
       "      <td>Hirvonen, Mrs. Alexander (Helga E Lindqvist)</td>\n",
       "      <td>female</td>\n",
       "      <td>22.0</td>\n",
       "      <td>1</td>\n",
       "      <td>1</td>\n",
       "      <td>3101298</td>\n",
       "      <td>12.2875</td>\n",
       "      <td>NaN</td>\n",
       "      <td>S</td>\n",
       "    </tr>\n",
       "  </tbody>\n",
       "</table>\n",
       "</div>"
      ],
      "text/plain": [
       "   PassengerId  Pclass                                          Name     Sex  \\\n",
       "0          892       3                              Kelly, Mr. James    male   \n",
       "1          893       3              Wilkes, Mrs. James (Ellen Needs)  female   \n",
       "2          894       2                     Myles, Mr. Thomas Francis    male   \n",
       "3          895       3                              Wirz, Mr. Albert    male   \n",
       "4          896       3  Hirvonen, Mrs. Alexander (Helga E Lindqvist)  female   \n",
       "\n",
       "    Age  SibSp  Parch   Ticket     Fare Cabin Embarked  \n",
       "0  34.5      0      0   330911   7.8292   NaN        Q  \n",
       "1  47.0      1      0   363272   7.0000   NaN        S  \n",
       "2  62.0      0      0   240276   9.6875   NaN        Q  \n",
       "3  27.0      0      0   315154   8.6625   NaN        S  \n",
       "4  22.0      1      1  3101298  12.2875   NaN        S  "
      ]
     },
     "execution_count": 3,
     "metadata": {},
     "output_type": "execute_result"
    }
   ],
   "source": [
    "test_data = pd.read_csv(\"/kaggle/input/titanic/test.csv\")\n",
    "test_data.head()"
   ]
  },
  {
   "cell_type": "markdown",
   "id": "04bad641",
   "metadata": {
    "papermill": {
     "duration": 0.008582,
     "end_time": "2023-03-02T01:10:46.336555",
     "exception": false,
     "start_time": "2023-03-02T01:10:46.327973",
     "status": "completed"
    },
    "tags": []
   },
   "source": [
    "taking a little bit look in our data"
   ]
  },
  {
   "cell_type": "code",
   "execution_count": 4,
   "id": "552bc15b",
   "metadata": {
    "execution": {
     "iopub.execute_input": "2023-03-02T01:10:46.355955Z",
     "iopub.status.busy": "2023-03-02T01:10:46.355601Z",
     "iopub.status.idle": "2023-03-02T01:10:46.381744Z",
     "shell.execute_reply": "2023-03-02T01:10:46.380647Z"
    },
    "papermill": {
     "duration": 0.038243,
     "end_time": "2023-03-02T01:10:46.384911",
     "exception": false,
     "start_time": "2023-03-02T01:10:46.346668",
     "status": "completed"
    },
    "tags": []
   },
   "outputs": [
    {
     "name": "stdout",
     "output_type": "stream",
     "text": [
      "<class 'pandas.core.frame.DataFrame'>\n",
      "RangeIndex: 891 entries, 0 to 890\n",
      "Data columns (total 12 columns):\n",
      " #   Column       Non-Null Count  Dtype  \n",
      "---  ------       --------------  -----  \n",
      " 0   PassengerId  891 non-null    int64  \n",
      " 1   Survived     891 non-null    int64  \n",
      " 2   Pclass       891 non-null    int64  \n",
      " 3   Name         891 non-null    object \n",
      " 4   Sex          891 non-null    object \n",
      " 5   Age          714 non-null    float64\n",
      " 6   SibSp        891 non-null    int64  \n",
      " 7   Parch        891 non-null    int64  \n",
      " 8   Ticket       891 non-null    object \n",
      " 9   Fare         891 non-null    float64\n",
      " 10  Cabin        204 non-null    object \n",
      " 11  Embarked     889 non-null    object \n",
      "dtypes: float64(2), int64(5), object(5)\n",
      "memory usage: 83.7+ KB\n"
     ]
    }
   ],
   "source": [
    "train_data.info()"
   ]
  },
  {
   "cell_type": "code",
   "execution_count": 5,
   "id": "a1638e45",
   "metadata": {
    "execution": {
     "iopub.execute_input": "2023-03-02T01:10:46.401967Z",
     "iopub.status.busy": "2023-03-02T01:10:46.401685Z",
     "iopub.status.idle": "2023-03-02T01:10:46.416277Z",
     "shell.execute_reply": "2023-03-02T01:10:46.414264Z"
    },
    "papermill": {
     "duration": 0.026753,
     "end_time": "2023-03-02T01:10:46.419839",
     "exception": false,
     "start_time": "2023-03-02T01:10:46.393086",
     "status": "completed"
    },
    "tags": []
   },
   "outputs": [
    {
     "name": "stdout",
     "output_type": "stream",
     "text": [
      "<class 'pandas.core.frame.DataFrame'>\n",
      "RangeIndex: 418 entries, 0 to 417\n",
      "Data columns (total 11 columns):\n",
      " #   Column       Non-Null Count  Dtype  \n",
      "---  ------       --------------  -----  \n",
      " 0   PassengerId  418 non-null    int64  \n",
      " 1   Pclass       418 non-null    int64  \n",
      " 2   Name         418 non-null    object \n",
      " 3   Sex          418 non-null    object \n",
      " 4   Age          332 non-null    float64\n",
      " 5   SibSp        418 non-null    int64  \n",
      " 6   Parch        418 non-null    int64  \n",
      " 7   Ticket       418 non-null    object \n",
      " 8   Fare         417 non-null    float64\n",
      " 9   Cabin        91 non-null     object \n",
      " 10  Embarked     418 non-null    object \n",
      "dtypes: float64(2), int64(4), object(5)\n",
      "memory usage: 36.0+ KB\n"
     ]
    }
   ],
   "source": [
    "test_data.info()"
   ]
  },
  {
   "cell_type": "code",
   "execution_count": 6,
   "id": "e77c3aaf",
   "metadata": {
    "execution": {
     "iopub.execute_input": "2023-03-02T01:10:46.437622Z",
     "iopub.status.busy": "2023-03-02T01:10:46.437335Z",
     "iopub.status.idle": "2023-03-02T01:10:46.447540Z",
     "shell.execute_reply": "2023-03-02T01:10:46.446571Z"
    },
    "papermill": {
     "duration": 0.02093,
     "end_time": "2023-03-02T01:10:46.449590",
     "exception": false,
     "start_time": "2023-03-02T01:10:46.428660",
     "status": "completed"
    },
    "tags": []
   },
   "outputs": [
    {
     "data": {
      "text/plain": [
       "347082      7\n",
       "CA. 2343    7\n",
       "1601        7\n",
       "3101295     6\n",
       "CA 2144     6\n",
       "           ..\n",
       "9234        1\n",
       "19988       1\n",
       "2693        1\n",
       "PC 17612    1\n",
       "370376      1\n",
       "Name: Ticket, Length: 681, dtype: int64"
      ]
     },
     "execution_count": 6,
     "metadata": {},
     "output_type": "execute_result"
    }
   ],
   "source": [
    "train_data['Ticket'].value_counts()"
   ]
  },
  {
   "cell_type": "code",
   "execution_count": 7,
   "id": "dacec37c",
   "metadata": {
    "execution": {
     "iopub.execute_input": "2023-03-02T01:10:46.465351Z",
     "iopub.status.busy": "2023-03-02T01:10:46.465063Z",
     "iopub.status.idle": "2023-03-02T01:10:46.473045Z",
     "shell.execute_reply": "2023-03-02T01:10:46.472152Z"
    },
    "papermill": {
     "duration": 0.018323,
     "end_time": "2023-03-02T01:10:46.475279",
     "exception": false,
     "start_time": "2023-03-02T01:10:46.456956",
     "status": "completed"
    },
    "tags": []
   },
   "outputs": [
    {
     "data": {
      "text/plain": [
       "B96 B98        4\n",
       "G6             4\n",
       "C23 C25 C27    4\n",
       "C22 C26        3\n",
       "F33            3\n",
       "              ..\n",
       "E34            1\n",
       "C7             1\n",
       "C54            1\n",
       "E36            1\n",
       "C148           1\n",
       "Name: Cabin, Length: 147, dtype: int64"
      ]
     },
     "execution_count": 7,
     "metadata": {},
     "output_type": "execute_result"
    }
   ],
   "source": [
    "train_data['Cabin'].value_counts()"
   ]
  },
  {
   "cell_type": "code",
   "execution_count": 8,
   "id": "7083b11d",
   "metadata": {
    "execution": {
     "iopub.execute_input": "2023-03-02T01:10:46.491466Z",
     "iopub.status.busy": "2023-03-02T01:10:46.491216Z",
     "iopub.status.idle": "2023-03-02T01:10:46.501540Z",
     "shell.execute_reply": "2023-03-02T01:10:46.500449Z"
    },
    "papermill": {
     "duration": 0.021234,
     "end_time": "2023-03-02T01:10:46.503801",
     "exception": false,
     "start_time": "2023-03-02T01:10:46.482567",
     "status": "completed"
    },
    "tags": []
   },
   "outputs": [
    {
     "data": {
      "text/plain": [
       "S    0.722783\n",
       "C    0.188552\n",
       "Q    0.086420\n",
       "Name: Embarked, dtype: float64"
      ]
     },
     "execution_count": 8,
     "metadata": {},
     "output_type": "execute_result"
    }
   ],
   "source": [
    "train_data['Embarked'].value_counts()/ len(train_data)"
   ]
  },
  {
   "cell_type": "code",
   "execution_count": 9,
   "id": "59f7f3f7",
   "metadata": {
    "execution": {
     "iopub.execute_input": "2023-03-02T01:10:46.523051Z",
     "iopub.status.busy": "2023-03-02T01:10:46.522655Z",
     "iopub.status.idle": "2023-03-02T01:10:46.534400Z",
     "shell.execute_reply": "2023-03-02T01:10:46.533426Z"
    },
    "papermill": {
     "duration": 0.024079,
     "end_time": "2023-03-02T01:10:46.536814",
     "exception": false,
     "start_time": "2023-03-02T01:10:46.512735",
     "status": "completed"
    },
    "tags": []
   },
   "outputs": [
    {
     "data": {
      "text/plain": [
       "S    0.645933\n",
       "C    0.244019\n",
       "Q    0.110048\n",
       "Name: Embarked, dtype: float64"
      ]
     },
     "execution_count": 9,
     "metadata": {},
     "output_type": "execute_result"
    }
   ],
   "source": [
    "test_data['Embarked'].value_counts()/ len(test_data)"
   ]
  },
  {
   "cell_type": "markdown",
   "id": "84e3536a",
   "metadata": {
    "papermill": {
     "duration": 0.007818,
     "end_time": "2023-03-02T01:10:46.552985",
     "exception": false,
     "start_time": "2023-03-02T01:10:46.545167",
     "status": "completed"
    },
    "tags": []
   },
   "source": [
    "ckecking features more correlated to target "
   ]
  },
  {
   "cell_type": "code",
   "execution_count": 10,
   "id": "ec9efe4e",
   "metadata": {
    "execution": {
     "iopub.execute_input": "2023-03-02T01:10:46.570064Z",
     "iopub.status.busy": "2023-03-02T01:10:46.569793Z",
     "iopub.status.idle": "2023-03-02T01:10:46.581613Z",
     "shell.execute_reply": "2023-03-02T01:10:46.580615Z"
    },
    "papermill": {
     "duration": 0.022768,
     "end_time": "2023-03-02T01:10:46.583731",
     "exception": false,
     "start_time": "2023-03-02T01:10:46.560963",
     "status": "completed"
    },
    "tags": []
   },
   "outputs": [
    {
     "data": {
      "text/plain": [
       "Survived       1.000000\n",
       "Fare           0.257307\n",
       "Parch          0.081629\n",
       "PassengerId   -0.005007\n",
       "SibSp         -0.035322\n",
       "Age           -0.077221\n",
       "Pclass        -0.338481\n",
       "Name: Survived, dtype: float64"
      ]
     },
     "execution_count": 10,
     "metadata": {},
     "output_type": "execute_result"
    }
   ],
   "source": [
    "correlated = train_data.corr()\n",
    "correlated['Survived'].sort_values(ascending = False)"
   ]
  },
  {
   "cell_type": "code",
   "execution_count": 11,
   "id": "8add03a5",
   "metadata": {
    "execution": {
     "iopub.execute_input": "2023-03-02T01:10:46.600784Z",
     "iopub.status.busy": "2023-03-02T01:10:46.600498Z",
     "iopub.status.idle": "2023-03-02T01:10:46.616486Z",
     "shell.execute_reply": "2023-03-02T01:10:46.615308Z"
    },
    "papermill": {
     "duration": 0.027563,
     "end_time": "2023-03-02T01:10:46.619737",
     "exception": false,
     "start_time": "2023-03-02T01:10:46.592174",
     "status": "completed"
    },
    "tags": []
   },
   "outputs": [
    {
     "data": {
      "text/html": [
       "<div>\n",
       "<style scoped>\n",
       "    .dataframe tbody tr th:only-of-type {\n",
       "        vertical-align: middle;\n",
       "    }\n",
       "\n",
       "    .dataframe tbody tr th {\n",
       "        vertical-align: top;\n",
       "    }\n",
       "\n",
       "    .dataframe thead th {\n",
       "        text-align: right;\n",
       "    }\n",
       "</style>\n",
       "<table border=\"1\" class=\"dataframe\">\n",
       "  <thead>\n",
       "    <tr style=\"text-align: right;\">\n",
       "      <th></th>\n",
       "      <th>Pclass</th>\n",
       "      <th>Sex</th>\n",
       "      <th>Age</th>\n",
       "      <th>SibSp</th>\n",
       "      <th>Parch</th>\n",
       "      <th>Fare</th>\n",
       "      <th>Embarked</th>\n",
       "    </tr>\n",
       "  </thead>\n",
       "  <tbody>\n",
       "    <tr>\n",
       "      <th>0</th>\n",
       "      <td>3</td>\n",
       "      <td>male</td>\n",
       "      <td>22.0</td>\n",
       "      <td>1</td>\n",
       "      <td>0</td>\n",
       "      <td>7.2500</td>\n",
       "      <td>S</td>\n",
       "    </tr>\n",
       "    <tr>\n",
       "      <th>1</th>\n",
       "      <td>1</td>\n",
       "      <td>female</td>\n",
       "      <td>38.0</td>\n",
       "      <td>1</td>\n",
       "      <td>0</td>\n",
       "      <td>71.2833</td>\n",
       "      <td>C</td>\n",
       "    </tr>\n",
       "    <tr>\n",
       "      <th>2</th>\n",
       "      <td>3</td>\n",
       "      <td>female</td>\n",
       "      <td>26.0</td>\n",
       "      <td>0</td>\n",
       "      <td>0</td>\n",
       "      <td>7.9250</td>\n",
       "      <td>S</td>\n",
       "    </tr>\n",
       "    <tr>\n",
       "      <th>3</th>\n",
       "      <td>1</td>\n",
       "      <td>female</td>\n",
       "      <td>35.0</td>\n",
       "      <td>1</td>\n",
       "      <td>0</td>\n",
       "      <td>53.1000</td>\n",
       "      <td>S</td>\n",
       "    </tr>\n",
       "    <tr>\n",
       "      <th>4</th>\n",
       "      <td>3</td>\n",
       "      <td>male</td>\n",
       "      <td>35.0</td>\n",
       "      <td>0</td>\n",
       "      <td>0</td>\n",
       "      <td>8.0500</td>\n",
       "      <td>S</td>\n",
       "    </tr>\n",
       "  </tbody>\n",
       "</table>\n",
       "</div>"
      ],
      "text/plain": [
       "   Pclass     Sex   Age  SibSp  Parch     Fare Embarked\n",
       "0       3    male  22.0      1      0   7.2500        S\n",
       "1       1  female  38.0      1      0  71.2833        C\n",
       "2       3  female  26.0      0      0   7.9250        S\n",
       "3       1  female  35.0      1      0  53.1000        S\n",
       "4       3    male  35.0      0      0   8.0500        S"
      ]
     },
     "execution_count": 11,
     "metadata": {},
     "output_type": "execute_result"
    }
   ],
   "source": [
    "features  = ['Pclass', 'Sex','Age',\n",
    "            'SibSp','Parch','Fare','Embarked']\n",
    "X_train = train_data[features]\n",
    "y_train  = train_data.loc[:, 'Survived']\n",
    "X_train.head()"
   ]
  },
  {
   "cell_type": "code",
   "execution_count": 12,
   "id": "be1c5ae2",
   "metadata": {
    "execution": {
     "iopub.execute_input": "2023-03-02T01:10:46.638352Z",
     "iopub.status.busy": "2023-03-02T01:10:46.638062Z",
     "iopub.status.idle": "2023-03-02T01:10:46.651145Z",
     "shell.execute_reply": "2023-03-02T01:10:46.650019Z"
    },
    "papermill": {
     "duration": 0.024491,
     "end_time": "2023-03-02T01:10:46.653365",
     "exception": false,
     "start_time": "2023-03-02T01:10:46.628874",
     "status": "completed"
    },
    "tags": []
   },
   "outputs": [
    {
     "data": {
      "text/html": [
       "<div>\n",
       "<style scoped>\n",
       "    .dataframe tbody tr th:only-of-type {\n",
       "        vertical-align: middle;\n",
       "    }\n",
       "\n",
       "    .dataframe tbody tr th {\n",
       "        vertical-align: top;\n",
       "    }\n",
       "\n",
       "    .dataframe thead th {\n",
       "        text-align: right;\n",
       "    }\n",
       "</style>\n",
       "<table border=\"1\" class=\"dataframe\">\n",
       "  <thead>\n",
       "    <tr style=\"text-align: right;\">\n",
       "      <th></th>\n",
       "      <th>Pclass</th>\n",
       "      <th>Age</th>\n",
       "      <th>SibSp</th>\n",
       "      <th>Parch</th>\n",
       "      <th>Fare</th>\n",
       "    </tr>\n",
       "  </thead>\n",
       "  <tbody>\n",
       "    <tr>\n",
       "      <th>0</th>\n",
       "      <td>3</td>\n",
       "      <td>22.0</td>\n",
       "      <td>1</td>\n",
       "      <td>0</td>\n",
       "      <td>7.2500</td>\n",
       "    </tr>\n",
       "    <tr>\n",
       "      <th>1</th>\n",
       "      <td>1</td>\n",
       "      <td>38.0</td>\n",
       "      <td>1</td>\n",
       "      <td>0</td>\n",
       "      <td>71.2833</td>\n",
       "    </tr>\n",
       "    <tr>\n",
       "      <th>2</th>\n",
       "      <td>3</td>\n",
       "      <td>26.0</td>\n",
       "      <td>0</td>\n",
       "      <td>0</td>\n",
       "      <td>7.9250</td>\n",
       "    </tr>\n",
       "    <tr>\n",
       "      <th>3</th>\n",
       "      <td>1</td>\n",
       "      <td>35.0</td>\n",
       "      <td>1</td>\n",
       "      <td>0</td>\n",
       "      <td>53.1000</td>\n",
       "    </tr>\n",
       "    <tr>\n",
       "      <th>4</th>\n",
       "      <td>3</td>\n",
       "      <td>35.0</td>\n",
       "      <td>0</td>\n",
       "      <td>0</td>\n",
       "      <td>8.0500</td>\n",
       "    </tr>\n",
       "  </tbody>\n",
       "</table>\n",
       "</div>"
      ],
      "text/plain": [
       "   Pclass   Age  SibSp  Parch     Fare\n",
       "0       3  22.0      1      0   7.2500\n",
       "1       1  38.0      1      0  71.2833\n",
       "2       3  26.0      0      0   7.9250\n",
       "3       1  35.0      1      0  53.1000\n",
       "4       3  35.0      0      0   8.0500"
      ]
     },
     "execution_count": 12,
     "metadata": {},
     "output_type": "execute_result"
    }
   ],
   "source": [
    "data_numeric = X_train.drop(['Sex','Embarked'], axis = 1)\n",
    "data_numeric.head()"
   ]
  },
  {
   "cell_type": "code",
   "execution_count": 13,
   "id": "905221a8",
   "metadata": {
    "execution": {
     "iopub.execute_input": "2023-03-02T01:10:46.671636Z",
     "iopub.status.busy": "2023-03-02T01:10:46.671379Z",
     "iopub.status.idle": "2023-03-02T01:10:46.675642Z",
     "shell.execute_reply": "2023-03-02T01:10:46.674607Z"
    },
    "papermill": {
     "duration": 0.015737,
     "end_time": "2023-03-02T01:10:46.678160",
     "exception": false,
     "start_time": "2023-03-02T01:10:46.662423",
     "status": "completed"
    },
    "tags": []
   },
   "outputs": [],
   "source": [
    "attribs_num  = list(data_numeric)\n",
    "attribs_cat = ['Sex','Embarked']"
   ]
  },
  {
   "cell_type": "code",
   "execution_count": 14,
   "id": "887bc9d2",
   "metadata": {
    "execution": {
     "iopub.execute_input": "2023-03-02T01:10:46.695904Z",
     "iopub.status.busy": "2023-03-02T01:10:46.695613Z",
     "iopub.status.idle": "2023-03-02T01:10:46.701196Z",
     "shell.execute_reply": "2023-03-02T01:10:46.700296Z"
    },
    "papermill": {
     "duration": 0.016456,
     "end_time": "2023-03-02T01:10:46.703109",
     "exception": false,
     "start_time": "2023-03-02T01:10:46.686653",
     "status": "completed"
    },
    "tags": []
   },
   "outputs": [
    {
     "data": {
      "text/plain": [
       "['Pclass', 'Age', 'SibSp', 'Parch', 'Fare']"
      ]
     },
     "execution_count": 14,
     "metadata": {},
     "output_type": "execute_result"
    }
   ],
   "source": [
    "attribs_num"
   ]
  },
  {
   "cell_type": "code",
   "execution_count": 15,
   "id": "79c517d9",
   "metadata": {
    "execution": {
     "iopub.execute_input": "2023-03-02T01:10:46.723051Z",
     "iopub.status.busy": "2023-03-02T01:10:46.722136Z",
     "iopub.status.idle": "2023-03-02T01:10:46.727546Z",
     "shell.execute_reply": "2023-03-02T01:10:46.726552Z"
    },
    "papermill": {
     "duration": 0.017546,
     "end_time": "2023-03-02T01:10:46.729740",
     "exception": false,
     "start_time": "2023-03-02T01:10:46.712194",
     "status": "completed"
    },
    "tags": []
   },
   "outputs": [],
   "source": [
    "num_pipeline = Pipeline([\n",
    "    ('imputer', SimpleImputer(strategy = 'median')),\n",
    "    ('std_scaler', StandardScaler())\n",
    "])"
   ]
  },
  {
   "cell_type": "code",
   "execution_count": 16,
   "id": "588bbf74",
   "metadata": {
    "execution": {
     "iopub.execute_input": "2023-03-02T01:10:46.748401Z",
     "iopub.status.busy": "2023-03-02T01:10:46.748118Z",
     "iopub.status.idle": "2023-03-02T01:10:46.752662Z",
     "shell.execute_reply": "2023-03-02T01:10:46.751721Z"
    },
    "papermill": {
     "duration": 0.016472,
     "end_time": "2023-03-02T01:10:46.754771",
     "exception": false,
     "start_time": "2023-03-02T01:10:46.738299",
     "status": "completed"
    },
    "tags": []
   },
   "outputs": [],
   "source": [
    "cat_pipeline = Pipeline([\n",
    "    ('imputer', SimpleImputer(strategy = 'most_frequent')),\n",
    "    ('cat_encoder', OneHotEncoder(sparse = False))\n",
    "])"
   ]
  },
  {
   "cell_type": "code",
   "execution_count": 17,
   "id": "876d1a01",
   "metadata": {
    "execution": {
     "iopub.execute_input": "2023-03-02T01:10:46.772302Z",
     "iopub.status.busy": "2023-03-02T01:10:46.772023Z",
     "iopub.status.idle": "2023-03-02T01:10:46.777173Z",
     "shell.execute_reply": "2023-03-02T01:10:46.776360Z"
    },
    "papermill": {
     "duration": 0.016631,
     "end_time": "2023-03-02T01:10:46.779491",
     "exception": false,
     "start_time": "2023-03-02T01:10:46.762860",
     "status": "completed"
    },
    "tags": []
   },
   "outputs": [],
   "source": [
    "preprocessing_pipeline = ColumnTransformer([\n",
    "    (\"num\", num_pipeline, attribs_num),\n",
    "    (\"cat\", cat_pipeline, attribs_cat)\n",
    "])"
   ]
  },
  {
   "cell_type": "code",
   "execution_count": 18,
   "id": "c2adb2f3",
   "metadata": {
    "execution": {
     "iopub.execute_input": "2023-03-02T01:10:46.796594Z",
     "iopub.status.busy": "2023-03-02T01:10:46.796340Z",
     "iopub.status.idle": "2023-03-02T01:10:46.813733Z",
     "shell.execute_reply": "2023-03-02T01:10:46.812757Z"
    },
    "papermill": {
     "duration": 0.028682,
     "end_time": "2023-03-02T01:10:46.816332",
     "exception": false,
     "start_time": "2023-03-02T01:10:46.787650",
     "status": "completed"
    },
    "tags": []
   },
   "outputs": [],
   "source": [
    "X_train_prepared = preprocessing_pipeline.fit_transform(X_train)"
   ]
  },
  {
   "cell_type": "code",
   "execution_count": 19,
   "id": "18866079",
   "metadata": {
    "execution": {
     "iopub.execute_input": "2023-03-02T01:10:46.836279Z",
     "iopub.status.busy": "2023-03-02T01:10:46.835934Z",
     "iopub.status.idle": "2023-03-02T01:10:46.842137Z",
     "shell.execute_reply": "2023-03-02T01:10:46.841206Z"
    },
    "papermill": {
     "duration": 0.018555,
     "end_time": "2023-03-02T01:10:46.844276",
     "exception": false,
     "start_time": "2023-03-02T01:10:46.825721",
     "status": "completed"
    },
    "tags": []
   },
   "outputs": [
    {
     "data": {
      "text/plain": [
       "(891, 10)"
      ]
     },
     "execution_count": 19,
     "metadata": {},
     "output_type": "execute_result"
    }
   ],
   "source": [
    "X_train_prepared.shape"
   ]
  },
  {
   "cell_type": "markdown",
   "id": "65a65395",
   "metadata": {
    "papermill": {
     "duration": 0.008487,
     "end_time": "2023-03-02T01:10:46.861451",
     "exception": false,
     "start_time": "2023-03-02T01:10:46.852964",
     "status": "completed"
    },
    "tags": []
   },
   "source": [
    "# Choose the best model\n",
    "First testing RandomForest with GridSearchCV"
   ]
  },
  {
   "cell_type": "code",
   "execution_count": 20,
   "id": "0af977e1",
   "metadata": {
    "execution": {
     "iopub.execute_input": "2023-03-02T01:10:46.879861Z",
     "iopub.status.busy": "2023-03-02T01:10:46.879553Z",
     "iopub.status.idle": "2023-03-02T01:10:46.885366Z",
     "shell.execute_reply": "2023-03-02T01:10:46.884363Z"
    },
    "papermill": {
     "duration": 0.017629,
     "end_time": "2023-03-02T01:10:46.887602",
     "exception": false,
     "start_time": "2023-03-02T01:10:46.869973",
     "status": "completed"
    },
    "tags": []
   },
   "outputs": [],
   "source": [
    "rf_clf = RandomForestClassifier( bootstrap = True, n_jobs = -1)\n",
    "param_grid_rf = [\n",
    "    {'n_estimators':[10,20,40,80,100, 160,500], 'max_depth':[2,5,10,20,40,80]}\n",
    "]\n",
    "grid_search_rf = GridSearchCV(rf_clf,param_grid_rf,\n",
    "                          cv = 10, scoring = 'accuracy')"
   ]
  },
  {
   "cell_type": "code",
   "execution_count": 21,
   "id": "89b96ade",
   "metadata": {
    "execution": {
     "iopub.execute_input": "2023-03-02T01:10:46.906010Z",
     "iopub.status.busy": "2023-03-02T01:10:46.905649Z",
     "iopub.status.idle": "2023-03-02T01:13:44.970806Z",
     "shell.execute_reply": "2023-03-02T01:13:44.969707Z"
    },
    "papermill": {
     "duration": 178.085504,
     "end_time": "2023-03-02T01:13:44.981655",
     "exception": false,
     "start_time": "2023-03-02T01:10:46.896151",
     "status": "completed"
    },
    "tags": []
   },
   "outputs": [
    {
     "data": {
      "text/plain": [
       "GridSearchCV(cv=10, estimator=RandomForestClassifier(n_jobs=-1),\n",
       "             param_grid=[{'max_depth': [2, 5, 10, 20, 40, 80],\n",
       "                          'n_estimators': [10, 20, 40, 80, 100, 160, 500]}],\n",
       "             scoring='accuracy')"
      ]
     },
     "execution_count": 21,
     "metadata": {},
     "output_type": "execute_result"
    }
   ],
   "source": [
    "grid_search_rf.fit(X_train_prepared,y_train)"
   ]
  },
  {
   "cell_type": "code",
   "execution_count": 22,
   "id": "256af0a0",
   "metadata": {
    "execution": {
     "iopub.execute_input": "2023-03-02T01:13:45.001376Z",
     "iopub.status.busy": "2023-03-02T01:13:45.000575Z",
     "iopub.status.idle": "2023-03-02T01:13:45.007761Z",
     "shell.execute_reply": "2023-03-02T01:13:45.006658Z"
    },
    "papermill": {
     "duration": 0.019179,
     "end_time": "2023-03-02T01:13:45.009846",
     "exception": false,
     "start_time": "2023-03-02T01:13:44.990667",
     "status": "completed"
    },
    "tags": []
   },
   "outputs": [
    {
     "data": {
      "text/plain": [
       "{'max_depth': 10, 'n_estimators': 100}"
      ]
     },
     "execution_count": 22,
     "metadata": {},
     "output_type": "execute_result"
    }
   ],
   "source": [
    "grid_search_rf.best_params_"
   ]
  },
  {
   "cell_type": "code",
   "execution_count": 23,
   "id": "705531a5",
   "metadata": {
    "execution": {
     "iopub.execute_input": "2023-03-02T01:13:45.030456Z",
     "iopub.status.busy": "2023-03-02T01:13:45.029427Z",
     "iopub.status.idle": "2023-03-02T01:13:45.034524Z",
     "shell.execute_reply": "2023-03-02T01:13:45.033628Z"
    },
    "papermill": {
     "duration": 0.017487,
     "end_time": "2023-03-02T01:13:45.036536",
     "exception": false,
     "start_time": "2023-03-02T01:13:45.019049",
     "status": "completed"
    },
    "tags": []
   },
   "outputs": [],
   "source": [
    "best_rf_clf = grid_search_rf.best_estimator_"
   ]
  },
  {
   "cell_type": "code",
   "execution_count": 24,
   "id": "92b518bb",
   "metadata": {
    "execution": {
     "iopub.execute_input": "2023-03-02T01:13:45.055663Z",
     "iopub.status.busy": "2023-03-02T01:13:45.055076Z",
     "iopub.status.idle": "2023-03-02T01:13:45.162497Z",
     "shell.execute_reply": "2023-03-02T01:13:45.161449Z"
    },
    "papermill": {
     "duration": 0.119744,
     "end_time": "2023-03-02T01:13:45.165194",
     "exception": false,
     "start_time": "2023-03-02T01:13:45.045450",
     "status": "completed"
    },
    "tags": []
   },
   "outputs": [],
   "source": [
    "predictions_train = best_rf_clf.predict(X_train_prepared)"
   ]
  },
  {
   "cell_type": "code",
   "execution_count": 25,
   "id": "28c731ee",
   "metadata": {
    "execution": {
     "iopub.execute_input": "2023-03-02T01:13:45.184961Z",
     "iopub.status.busy": "2023-03-02T01:13:45.184139Z",
     "iopub.status.idle": "2023-03-02T01:13:45.191633Z",
     "shell.execute_reply": "2023-03-02T01:13:45.190719Z"
    },
    "papermill": {
     "duration": 0.019115,
     "end_time": "2023-03-02T01:13:45.193706",
     "exception": false,
     "start_time": "2023-03-02T01:13:45.174591",
     "status": "completed"
    },
    "tags": []
   },
   "outputs": [
    {
     "data": {
      "text/plain": [
       "0.9405162738496072"
      ]
     },
     "execution_count": 25,
     "metadata": {},
     "output_type": "execute_result"
    }
   ],
   "source": [
    "accuracy_score(y_train, predictions_train)"
   ]
  },
  {
   "cell_type": "code",
   "execution_count": 26,
   "id": "dadc2286",
   "metadata": {
    "execution": {
     "iopub.execute_input": "2023-03-02T01:13:45.213424Z",
     "iopub.status.busy": "2023-03-02T01:13:45.212502Z",
     "iopub.status.idle": "2023-03-02T01:13:45.228609Z",
     "shell.execute_reply": "2023-03-02T01:13:45.227452Z"
    },
    "papermill": {
     "duration": 0.02892,
     "end_time": "2023-03-02T01:13:45.231014",
     "exception": false,
     "start_time": "2023-03-02T01:13:45.202094",
     "status": "completed"
    },
    "tags": []
   },
   "outputs": [
    {
     "data": {
      "text/html": [
       "<div>\n",
       "<style scoped>\n",
       "    .dataframe tbody tr th:only-of-type {\n",
       "        vertical-align: middle;\n",
       "    }\n",
       "\n",
       "    .dataframe tbody tr th {\n",
       "        vertical-align: top;\n",
       "    }\n",
       "\n",
       "    .dataframe thead th {\n",
       "        text-align: right;\n",
       "    }\n",
       "</style>\n",
       "<table border=\"1\" class=\"dataframe\">\n",
       "  <thead>\n",
       "    <tr style=\"text-align: right;\">\n",
       "      <th></th>\n",
       "      <th>Pclass</th>\n",
       "      <th>Sex</th>\n",
       "      <th>Age</th>\n",
       "      <th>SibSp</th>\n",
       "      <th>Parch</th>\n",
       "      <th>Fare</th>\n",
       "      <th>Embarked</th>\n",
       "    </tr>\n",
       "  </thead>\n",
       "  <tbody>\n",
       "    <tr>\n",
       "      <th>0</th>\n",
       "      <td>3</td>\n",
       "      <td>male</td>\n",
       "      <td>34.5</td>\n",
       "      <td>0</td>\n",
       "      <td>0</td>\n",
       "      <td>7.8292</td>\n",
       "      <td>Q</td>\n",
       "    </tr>\n",
       "    <tr>\n",
       "      <th>1</th>\n",
       "      <td>3</td>\n",
       "      <td>female</td>\n",
       "      <td>47.0</td>\n",
       "      <td>1</td>\n",
       "      <td>0</td>\n",
       "      <td>7.0000</td>\n",
       "      <td>S</td>\n",
       "    </tr>\n",
       "    <tr>\n",
       "      <th>2</th>\n",
       "      <td>2</td>\n",
       "      <td>male</td>\n",
       "      <td>62.0</td>\n",
       "      <td>0</td>\n",
       "      <td>0</td>\n",
       "      <td>9.6875</td>\n",
       "      <td>Q</td>\n",
       "    </tr>\n",
       "    <tr>\n",
       "      <th>3</th>\n",
       "      <td>3</td>\n",
       "      <td>male</td>\n",
       "      <td>27.0</td>\n",
       "      <td>0</td>\n",
       "      <td>0</td>\n",
       "      <td>8.6625</td>\n",
       "      <td>S</td>\n",
       "    </tr>\n",
       "    <tr>\n",
       "      <th>4</th>\n",
       "      <td>3</td>\n",
       "      <td>female</td>\n",
       "      <td>22.0</td>\n",
       "      <td>1</td>\n",
       "      <td>1</td>\n",
       "      <td>12.2875</td>\n",
       "      <td>S</td>\n",
       "    </tr>\n",
       "  </tbody>\n",
       "</table>\n",
       "</div>"
      ],
      "text/plain": [
       "   Pclass     Sex   Age  SibSp  Parch     Fare Embarked\n",
       "0       3    male  34.5      0      0   7.8292        Q\n",
       "1       3  female  47.0      1      0   7.0000        S\n",
       "2       2    male  62.0      0      0   9.6875        Q\n",
       "3       3    male  27.0      0      0   8.6625        S\n",
       "4       3  female  22.0      1      1  12.2875        S"
      ]
     },
     "execution_count": 26,
     "metadata": {},
     "output_type": "execute_result"
    }
   ],
   "source": [
    "X_test = test_data[features]\n",
    "X_test.head()"
   ]
  },
  {
   "cell_type": "code",
   "execution_count": 27,
   "id": "5a82110e",
   "metadata": {
    "execution": {
     "iopub.execute_input": "2023-03-02T01:13:45.250324Z",
     "iopub.status.busy": "2023-03-02T01:13:45.250042Z",
     "iopub.status.idle": "2023-03-02T01:13:45.260951Z",
     "shell.execute_reply": "2023-03-02T01:13:45.260108Z"
    },
    "papermill": {
     "duration": 0.022831,
     "end_time": "2023-03-02T01:13:45.263036",
     "exception": false,
     "start_time": "2023-03-02T01:13:45.240205",
     "status": "completed"
    },
    "tags": []
   },
   "outputs": [],
   "source": [
    "X_test_prepared = preprocessing_pipeline.transform(X_test)"
   ]
  },
  {
   "cell_type": "code",
   "execution_count": 28,
   "id": "54bc0b0f",
   "metadata": {
    "execution": {
     "iopub.execute_input": "2023-03-02T01:13:45.283649Z",
     "iopub.status.busy": "2023-03-02T01:13:45.282043Z",
     "iopub.status.idle": "2023-03-02T01:13:45.288793Z",
     "shell.execute_reply": "2023-03-02T01:13:45.287750Z"
    },
    "papermill": {
     "duration": 0.018538,
     "end_time": "2023-03-02T01:13:45.290826",
     "exception": false,
     "start_time": "2023-03-02T01:13:45.272288",
     "status": "completed"
    },
    "tags": []
   },
   "outputs": [
    {
     "data": {
      "text/plain": [
       "(418, 10)"
      ]
     },
     "execution_count": 28,
     "metadata": {},
     "output_type": "execute_result"
    }
   ],
   "source": [
    "X_test_prepared.shape"
   ]
  },
  {
   "cell_type": "code",
   "execution_count": 29,
   "id": "5b10ded5",
   "metadata": {
    "execution": {
     "iopub.execute_input": "2023-03-02T01:13:45.309986Z",
     "iopub.status.busy": "2023-03-02T01:13:45.309133Z",
     "iopub.status.idle": "2023-03-02T01:13:45.416482Z",
     "shell.execute_reply": "2023-03-02T01:13:45.415351Z"
    },
    "papermill": {
     "duration": 0.119859,
     "end_time": "2023-03-02T01:13:45.419110",
     "exception": false,
     "start_time": "2023-03-02T01:13:45.299251",
     "status": "completed"
    },
    "tags": []
   },
   "outputs": [],
   "source": [
    "predictions = best_rf_clf.predict(X_test_prepared)"
   ]
  },
  {
   "cell_type": "code",
   "execution_count": 30,
   "id": "f63f0e35",
   "metadata": {
    "execution": {
     "iopub.execute_input": "2023-03-02T01:13:45.441025Z",
     "iopub.status.busy": "2023-03-02T01:13:45.440645Z",
     "iopub.status.idle": "2023-03-02T01:13:45.445614Z",
     "shell.execute_reply": "2023-03-02T01:13:45.444615Z"
    },
    "papermill": {
     "duration": 0.018177,
     "end_time": "2023-03-02T01:13:45.447946",
     "exception": false,
     "start_time": "2023-03-02T01:13:45.429769",
     "status": "completed"
    },
    "tags": []
   },
   "outputs": [],
   "source": [
    "output = pd.DataFrame({'PassengerId': test_data.PassengerId,\n",
    "                       'Survived': predictions})"
   ]
  },
  {
   "cell_type": "code",
   "execution_count": 31,
   "id": "9c83c87d",
   "metadata": {
    "execution": {
     "iopub.execute_input": "2023-03-02T01:13:45.468069Z",
     "iopub.status.busy": "2023-03-02T01:13:45.467292Z",
     "iopub.status.idle": "2023-03-02T01:13:45.473850Z",
     "shell.execute_reply": "2023-03-02T01:13:45.472890Z"
    },
    "papermill": {
     "duration": 0.018858,
     "end_time": "2023-03-02T01:13:45.475765",
     "exception": false,
     "start_time": "2023-03-02T01:13:45.456907",
     "status": "completed"
    },
    "tags": []
   },
   "outputs": [
    {
     "data": {
      "text/plain": [
       "(418, 2)"
      ]
     },
     "execution_count": 31,
     "metadata": {},
     "output_type": "execute_result"
    }
   ],
   "source": [
    "output.shape"
   ]
  },
  {
   "cell_type": "code",
   "execution_count": 32,
   "id": "32f512ed",
   "metadata": {
    "execution": {
     "iopub.execute_input": "2023-03-02T01:13:45.495837Z",
     "iopub.status.busy": "2023-03-02T01:13:45.495037Z",
     "iopub.status.idle": "2023-03-02T01:13:45.503070Z",
     "shell.execute_reply": "2023-03-02T01:13:45.502208Z"
    },
    "papermill": {
     "duration": 0.020495,
     "end_time": "2023-03-02T01:13:45.505209",
     "exception": false,
     "start_time": "2023-03-02T01:13:45.484714",
     "status": "completed"
    },
    "tags": []
   },
   "outputs": [],
   "source": [
    "output.to_csv('submission.csv', index = False)"
   ]
  }
 ],
 "metadata": {
  "kernelspec": {
   "display_name": "Python 3",
   "language": "python",
   "name": "python3"
  },
  "language_info": {
   "codemirror_mode": {
    "name": "ipython",
    "version": 3
   },
   "file_extension": ".py",
   "mimetype": "text/x-python",
   "name": "python",
   "nbconvert_exporter": "python",
   "pygments_lexer": "ipython3",
   "version": "3.7.12"
  },
  "papermill": {
   "default_parameters": {},
   "duration": 192.129445,
   "end_time": "2023-03-02T01:13:48.136408",
   "environment_variables": {},
   "exception": null,
   "input_path": "__notebook__.ipynb",
   "output_path": "__notebook__.ipynb",
   "parameters": {},
   "start_time": "2023-03-02T01:10:36.006963",
   "version": "2.3.4"
  }
 },
 "nbformat": 4,
 "nbformat_minor": 5
}
